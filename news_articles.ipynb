{
 "cells": [
  {
   "cell_type": "code",
   "execution_count": 171,
   "metadata": {},
   "outputs": [],
   "source": [
    "import pandas, numpy, os, re"
   ]
  },
  {
   "cell_type": "code",
   "execution_count": 172,
   "metadata": {},
   "outputs": [
    {
     "data": {
      "text/plain": [
       "['1101243072871.txt',\n",
       " '1101163341619.txt',\n",
       " '1101163941020.txt',\n",
       " '1101163268260.txt',\n",
       " '1101163374885.txt']"
      ]
     },
     "execution_count": 172,
     "metadata": {},
     "output_type": "execute_result"
    }
   ],
   "source": [
    "article_directory = './hw01-data-raw/News Articles'\n",
    "article_list = os.listdir(article_directory) # create list of files\n",
    "article_list[:5]"
   ]
  },
  {
   "cell_type": "code",
   "execution_count": 173,
   "metadata": {},
   "outputs": [
    {
     "data": {
      "text/plain": [
       "dict_keys(['mad cow', 'laboratory', 'whistleblower', 'key names', 'Laurie/Laurel Sulfate', 'animal feed', 'cash flow', 'mayor'])"
      ]
     },
     "execution_count": 173,
     "metadata": {},
     "output_type": "execute_result"
    }
   ],
   "source": [
    "keywords = { \n",
    "    'mad cow': ['mad cow', 'prion', 'creutzfeldt-jakob', 'spongiform', 'encephalopath'], \n",
    "    'laboratory': ['lab'],\n",
    "    'whistleblower': ['whistle'],\n",
    "    'key names': ['Ryker', 'Sanderson', 'Boynton', 'Dortmund', 'Sulfate'],\n",
    "    'Laurie/Laurel Sulfate': ['Sulfate', 'Laurie', 'Laurel'],\n",
    "    'animal feed': ['feed'],\n",
    "    'cash flow': ['$', 'dollar', 'money', 'cash', 'expense'],\n",
    "    'mayor': ['$2,500']\n",
    "}\n",
    "keywords.keys()"
   ]
  },
  {
   "cell_type": "markdown",
   "metadata": {},
   "source": [
    "regular expression from https://stackoverflow.com/questions/17268958/finding-occurrences-of-a-word-in-a-string-in-python-3"
   ]
  },
  {
   "cell_type": "code",
   "execution_count": 174,
   "metadata": {},
   "outputs": [],
   "source": [
    "article_data = []\n",
    "# create dataframe from list of dictionaries\n",
    "# each dictionary: {filename: filename.txt, title: \"\", author: {author name}, date: {date posted}, ...}\n",
    "\n",
    "for file_name in article_list:\n",
    "    # open the file\n",
    "    article = open(f'{article_directory}/{file_name}', encoding='ISO 8859-1')\n",
    "    article_text = article.read()\n",
    "    # replace weird characters and newlines with single space, convert to lower case\n",
    "    # article_text = article_text.replace('\\x97', ' ').replace('\\xa0', ' ').replace('\\n', ' ')\n",
    "    # article_text = re.sub(' +', ' ', article_text).lower()\n",
    "\n",
    "    # empty list of article keywords to populate\n",
    "    article_keywords = []\n",
    "    article_dict = { 'filename': file_name}\n",
    "    # get other metadata for article_dict from Emi's code (article title, author, date published)\n",
    "    article_text = article_text.replace('\\x97', ' ').replace('\\xa0', ' ').replace('\\n', '#')\n",
    "    article_text = re.sub(' +', ' ', article_text).lower()\n",
    "    article_text = re.sub('(#)+', '#', article_text)\n",
    "    article_text = article_text[1:]\n",
    "    article_pieces =  article_text.split('#')\n",
    "    # print(article_pieces)\n",
    "    title = article_pieces[0]\n",
    "    author = False\n",
    "    date = False\n",
    "    if \"story by:\" in article_pieces[1]:\n",
    "        author = article_pieces[1][10:]\n",
    "        date = article_pieces[2][23:]\n",
    "    elif article_pieces[0] == \" \":\n",
    "        date = article_pieces[1].strip()[23:]\n",
    "    else:\n",
    "        date = article_pieces[2].strip()[23:]\n",
    "    article_dict['title'] = title\n",
    "    article_dict['date'] = date\n",
    "    article_dict['author'] = author\n",
    "    # tally up occurrences of each keyword category\n",
    "    tally = 0\n",
    "    for keyword in keywords.keys():\n",
    "        article_dict[keyword] = 0\n",
    "        contains_keyword = False\n",
    "        for synonym in keywords[keyword]:\n",
    "            num_found = sum(1 for _ in re.finditer(r'%s' % re.escape(synonym.lower()), article_text))\n",
    "            article_dict[keyword] += num_found\n",
    "            tally+=num_found\n",
    "    if tally>0:\n",
    "        article_data.append(article_dict)"
   ]
  },
  {
   "cell_type": "code",
   "execution_count": 175,
   "metadata": {},
   "outputs": [
    {
     "data": {
      "text/html": [
       "<div>\n",
       "<style scoped>\n",
       "    .dataframe tbody tr th:only-of-type {\n",
       "        vertical-align: middle;\n",
       "    }\n",
       "\n",
       "    .dataframe tbody tr th {\n",
       "        vertical-align: top;\n",
       "    }\n",
       "\n",
       "    .dataframe thead th {\n",
       "        text-align: right;\n",
       "    }\n",
       "</style>\n",
       "<table border=\"1\" class=\"dataframe\">\n",
       "  <thead>\n",
       "    <tr style=\"text-align: right;\">\n",
       "      <th></th>\n",
       "      <th>filename</th>\n",
       "      <th>title</th>\n",
       "      <th>date</th>\n",
       "      <th>author</th>\n",
       "      <th>mad cow</th>\n",
       "      <th>laboratory</th>\n",
       "      <th>whistleblower</th>\n",
       "      <th>key names</th>\n",
       "      <th>Laurie/Laurel Sulfate</th>\n",
       "      <th>animal feed</th>\n",
       "      <th>cash flow</th>\n",
       "      <th>mayor</th>\n",
       "    </tr>\n",
       "  </thead>\n",
       "  <tbody>\n",
       "    <tr>\n",
       "      <th>468</th>\n",
       "      <td>1101242961808.txt</td>\n",
       "      <td>mabton vfw, food bank at odds</td>\n",
       "      <td>2003-06-10</td>\n",
       "      <td>mel sacher</td>\n",
       "      <td>0</td>\n",
       "      <td>0</td>\n",
       "      <td>0</td>\n",
       "      <td>0</td>\n",
       "      <td>0</td>\n",
       "      <td>1</td>\n",
       "      <td>12</td>\n",
       "      <td>1</td>\n",
       "    </tr>\n",
       "    <tr>\n",
       "      <th>219</th>\n",
       "      <td>1101163323572.txt</td>\n",
       "      <td>alderwood lions club seeks support for firewor...</td>\n",
       "      <td>2004-05-12</td>\n",
       "      <td>False</td>\n",
       "      <td>0</td>\n",
       "      <td>0</td>\n",
       "      <td>0</td>\n",
       "      <td>0</td>\n",
       "      <td>0</td>\n",
       "      <td>0</td>\n",
       "      <td>3</td>\n",
       "      <td>1</td>\n",
       "    </tr>\n",
       "    <tr>\n",
       "      <th>499</th>\n",
       "      <td>1101162903647.txt</td>\n",
       "      <td>city council rejects rockford's plan for selli...</td>\n",
       "      <td>2004-08-26</td>\n",
       "      <td>john panni</td>\n",
       "      <td>0</td>\n",
       "      <td>0</td>\n",
       "      <td>0</td>\n",
       "      <td>0</td>\n",
       "      <td>0</td>\n",
       "      <td>0</td>\n",
       "      <td>10</td>\n",
       "      <td>6</td>\n",
       "    </tr>\n",
       "    <tr>\n",
       "      <th>384</th>\n",
       "      <td>1101162507155.txt</td>\n",
       "      <td>forum</td>\n",
       "      <td>2004-10-27</td>\n",
       "      <td>False</td>\n",
       "      <td>0</td>\n",
       "      <td>0</td>\n",
       "      <td>0</td>\n",
       "      <td>0</td>\n",
       "      <td>0</td>\n",
       "      <td>0</td>\n",
       "      <td>9</td>\n",
       "      <td>2</td>\n",
       "    </tr>\n",
       "  </tbody>\n",
       "</table>\n",
       "</div>"
      ],
      "text/plain": [
       "              filename                                              title  \\\n",
       "468  1101242961808.txt                      mabton vfw, food bank at odds   \n",
       "219  1101163323572.txt  alderwood lions club seeks support for firewor...   \n",
       "499  1101162903647.txt  city council rejects rockford's plan for selli...   \n",
       "384  1101162507155.txt                                              forum   \n",
       "\n",
       "          date      author  mad cow  laboratory  whistleblower  key names  \\\n",
       "468 2003-06-10  mel sacher        0           0              0          0   \n",
       "219 2004-05-12       False        0           0              0          0   \n",
       "499 2004-08-26  john panni        0           0              0          0   \n",
       "384 2004-10-27       False        0           0              0          0   \n",
       "\n",
       "     Laurie/Laurel Sulfate  animal feed  cash flow  mayor  \n",
       "468                      0            1         12      1  \n",
       "219                      0            0          3      1  \n",
       "499                      0            0         10      6  \n",
       "384                      0            0          9      2  "
      ]
     },
     "execution_count": 175,
     "metadata": {},
     "output_type": "execute_result"
    }
   ],
   "source": [
    "article_df = pandas.DataFrame(article_data)\n",
    "article_df['date'] = pandas.to_datetime(article_df['date'], format='mixed')\n",
    "# article_df.sort_values(by='key names', ascending=False)\n",
    "param = 'mayor'\n",
    "article_df[article_df[param] > 0].sort_values(by='date')"
   ]
  }
 ],
 "metadata": {
  "kernelspec": {
   "display_name": "csc235env",
   "language": "python",
   "name": "python3"
  },
  "language_info": {
   "codemirror_mode": {
    "name": "ipython",
    "version": 3
   },
   "file_extension": ".py",
   "mimetype": "text/x-python",
   "name": "python",
   "nbconvert_exporter": "python",
   "pygments_lexer": "ipython3",
   "version": "3.10.9"
  }
 },
 "nbformat": 4,
 "nbformat_minor": 2
}
